#Importation des libraires nécéssaires
import math
import numpy as np

#Saisie de la matrice A (DOIT ETRE SYMETRIQUE ET DEFINIE POSITIVE!)
A = np.array([[5.2,3,0.5,1,2],[3,6.3,-2,4,0],[0.5,-2,8,-3.1,3],[1,4,-3.1,7.6,2.6],[2,0,3,2.6,15]])
print("La matrice A est :\n",A)

#Verification si la matrice A est définie positive
def Definie_Positive(A):
    return np.all(np.linalg.eigvals(A) > 0)

#Décomposition de la matrice A
def Cholesky(A):
    A = np.array(A,float)
    L = np.zeros_like(A)
    n,_ = np.shape(A)
    for j in range(n):
        for i in range(j,n):
            if i == j:
                somme_k = 0
                for k in range(j):
                    somme_k += L[i,k]**2
                L[i,j] = np.sqrt(A[i,j] - somme_k)
            else:
                somme_k = 0
                for k in range(j):
                    somme_k += L[i,k] * L[j,k]
                L[i,j] = (A[i,j] - somme_k) / L[j,j]
    return L

#Résolution des deux systèmes
def Resoudre(L,U,b):
    L = np.array(L,float)
    U = np.array(U,float)
    b = np.array(b,float)
    n,_ = np.shape(L)
    x = np.zeros(n)
    y = np.zeros(n)

    #Résolution du système triangulaire inférieur (Descente)
    for i in range(n):
        somme_j = 0
        for j in range(i):
            somme_j += L[i,j] * y[j]
        y[i] = (b[i] - somme_j) / L[i,i]
    #Résolution du système triangulaire supérieur (Remontée)
    for i in range(n-1,-1,-1):
        somme_j = 0
        for j in range(i+1,n):
            somme_j += U[i,j] * x[j]
        x[i] = (y[i] - somme_j) / U[i,i]
    return x

#Affichage de la solution
cond = Definie_Positive(A)
if(np.array_equal(A,np.transpose(A)) == True):
    print("\nA est symétrique")
else:
    print("A n'est pas symétrique")
if(cond == True):
    print("A est définie positive\n")
    #Saisie du vecteur b
    b=np.array([[2],[5],[3],[1],[1]])
    print("\nLe vecteur b est :\n",b)
    L=Cholesky(A)
    #Affichage de la matrice triangulaire inférieure
    print("\nla matrice L est :\n",L)
    x = Resoudre(L,np.transpose(L),b)
    print("\nLa solution du système est :\n",x)
else:
    print("A n'est pas définie positive\n")