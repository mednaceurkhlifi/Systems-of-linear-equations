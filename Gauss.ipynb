{
 "cells": [
  {
   "cell_type": "code",
   "execution_count": 4,
   "metadata": {
    "colab": {
     "base_uri": "https://localhost:8080/"
    },
    "id": "9fzcLqEvPiKj",
    "outputId": "ab336338-a1af-4d92-d61d-5cdd9c01066c"
   },
   "outputs": [
    {
     "name": "stdout",
     "output_type": "stream",
     "text": [
      "\n",
      "Original matrix:\n",
      "[[ 5.2  3.   0.5  1.   2.   2. ]\n",
      " [ 3.   6.3 -2.   4.   0.   5. ]\n",
      " [ 0.5 -2.   8.  -3.1  3.   3. ]\n",
      " [ 1.   4.  -3.1  7.6  2.6  1. ]\n",
      " [ 2.   0.   3.   2.6 15.   1. ]]\n",
      "\n",
      "Augmented Gaussian matrix:\n",
      "[[ 5.20000000e+00  3.00000000e+00  5.00000000e-01  1.00000000e+00\n",
      "   2.00000000e+00  2.00000000e+00]\n",
      " [ 0.00000000e+00  4.56923077e+00 -2.28846154e+00  3.42307692e+00\n",
      "  -1.15384615e+00  3.84615385e+00]\n",
      " [ 0.00000000e+00  0.00000000e+00  6.80576599e+00 -1.48173401e+00\n",
      "   2.22979798e+00  4.73400673e+00]\n",
      " [ 0.00000000e+00  0.00000000e+00  0.00000000e+00  4.52066665e+00\n",
      "   3.56526391e+00 -1.23531740e+00]\n",
      " [ 0.00000000e+00  2.22044605e-16  0.00000000e+00  0.00000000e+00\n",
      "   1.03970600e+01  6.25244318e-01]]\n",
      "\n",
      "Solutions:\n",
      "[-0.4432298   1.40072538  0.60606563 -0.32068731  0.06013665]\n",
      "\n",
      "\n",
      "Temps d'exécution :  4.000663757324219  ms\n"
     ]
    }
   ],
   "source": [
    "import time\n",
    "start = time.time()\n",
    "import numpy as np\n",
    "\n",
    "# Input\n",
    "A = np.array([[5.2,3,0.5,1,2,2],[3, 6.3, -2, 4, 0, 5],[0.5, -2, 8, -3.1, 3, 3],[1, 4, -3.1, 7.6, 2.6, 1],[2, 0, 3, 2.6, 15, 1]])\n",
    "N = len(A)\n",
    "\n",
    "print(f\"\\nOriginal matrix:\\n{A}\\n\")\n",
    "\n",
    "for j in range(N):\n",
    "\n",
    "    # Pivoting\n",
    "    if A[j,j] == 0:\n",
    "        key = np.argmax(abs(A[:,j]))\n",
    "        temp = np.zeros(N+1)\n",
    "        if j != key:\n",
    "            temp[:] = A[j,:]\n",
    "            A[j,:] = A[key,:]\n",
    "            A[key,:] = temp[:]\n",
    "\n",
    "    # Elimination        \n",
    "    for i in range(1,N-j): A[i+j,:] = A[i+j,:] - (A[i+j,j]/A[j,j] * A[j,:])\n",
    "\n",
    "print(f\"Augmented Gaussian matrix:\\n{A}\\n\")\n",
    "\n",
    "# Solutions\n",
    "x = np.zeros(N)\n",
    "x[-1] = A[N-1,N]/A[N-1,N-1]\n",
    "\n",
    "for i in reversed(range(N-1)):\n",
    "    sum = 0\n",
    "    for j in range(i+1,N):\n",
    "        sum += A[i,j]*x[j]\n",
    "    x[i] = (A[i,N] - sum)/A[i,i]\n",
    "\n",
    "print(f\"Solutions:\\n{x}\\n\")\n",
    "end = time.time()\n",
    "print(\"\\nTemps d'exécution : \",(end - start) *10**3,\" ms\")"
   ]
  },
  {
   "cell_type": "code",
   "execution_count": null,
   "metadata": {},
   "outputs": [],
   "source": []
  }
 ],
 "metadata": {
  "colab": {
   "provenance": []
  },
  "kernelspec": {
   "display_name": "Python 3 (ipykernel)",
   "language": "python",
   "name": "python3"
  },
  "language_info": {
   "codemirror_mode": {
    "name": "ipython",
    "version": 3
   },
   "file_extension": ".py",
   "mimetype": "text/x-python",
   "name": "python",
   "nbconvert_exporter": "python",
   "pygments_lexer": "ipython3",
   "version": "3.9.12"
  }
 },
 "nbformat": 4,
 "nbformat_minor": 4
}
