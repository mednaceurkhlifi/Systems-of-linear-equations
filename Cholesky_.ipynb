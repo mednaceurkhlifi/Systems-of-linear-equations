{
  "cells": [
    {
      "cell_type": "code",
      "execution_count": null,
      "metadata": {
        "colab": {
          "base_uri": "https://localhost:8080/"
        },
        "id": "9fzcLqEvPiKj",
        "outputId": "ab336338-a1af-4d92-d61d-5cdd9c01066c"
      },
      "outputs": [
        {
          "name": "stdout",
          "output_type": "stream",
          "text": [
            "\n",
            "Original matrix:\n",
            "[[ 5.2  3.   0.5  1.   2.   2. ]\n",
            " [ 3.   6.3 -2.   4.   0.   5. ]\n",
            " [ 0.5 -2.   8.  -3.1  3.   3. ]\n",
            " [ 1.   4.  -3.1  7.6  2.6  1. ]\n",
            " [ 2.   0.   3.   2.6 15.   1. ]]\n",
            "\n",
            "Augmented Gaussian matrix:\n",
            "[[ 5.20000000e+00  3.00000000e+00  5.00000000e-01  1.00000000e+00\n",
            "   2.00000000e+00  2.00000000e+00]\n",
            " [ 0.00000000e+00  4.56923077e+00 -2.28846154e+00  3.42307692e+00\n",
            "  -1.15384615e+00  3.84615385e+00]\n",
            " [ 0.00000000e+00  0.00000000e+00  6.80576599e+00 -1.48173401e+00\n",
            "   2.22979798e+00  4.73400673e+00]\n",
            " [ 0.00000000e+00  0.00000000e+00  0.00000000e+00  4.52066665e+00\n",
            "   3.56526391e+00 -1.23531740e+00]\n",
            " [ 0.00000000e+00  2.22044605e-16  0.00000000e+00  0.00000000e+00\n",
            "   1.03970600e+01  6.25244318e-01]]\n",
            "\n",
            "Solutions:\n",
            "[-0.4432298   1.40072538  0.60606563 -0.32068731  0.06013665]\n",
            "\n",
            "\n",
            "Temps d'exécution :  4.000663757324219  ms\n"
          ]
        }
      ],
      "source": [
        "#Importation des libraires nécéssaires\n",
        "import math\n",
        "import numpy as np\n",
        "\n",
        "#Saisie de la matrice A (DOIT ETRE SYMETRIQUE ET DEFINIE POSITIVE!)\n",
        "A = np.array([[5.2,3,0.5,1,2],[3,6.3,-2,4,0],[0.5,-2,8,-3.1,3],[1,4,-3.1,7.6,2.6],[2,0,3,2.6,15]])\n",
        "print(\"La matrice A est :\\n\",A)\n",
        "\n",
        "#Verification si la matrice A est définie positive\n",
        "def Definie_Positive(A):\n",
        "    return np.all(np.linalg.eigvals(A) > 0)\n",
        "\n",
        "#Décomposition de la matrice A\n",
        "def Cholesky(A):\n",
        "    A = np.array(A,float)\n",
        "    L = np.zeros_like(A)\n",
        "    n,_ = np.shape(A)\n",
        "    for j in range(n):\n",
        "        for i in range(j,n):\n",
        "            if i == j:\n",
        "                somme_k = 0\n",
        "                for k in range(j):\n",
        "                    somme_k += L[i,k]**2\n",
        "                L[i,j] = np.sqrt(A[i,j] - somme_k)\n",
        "            else:\n",
        "                somme_k = 0\n",
        "                for k in range(j):\n",
        "                    somme_k += L[i,k] * L[j,k]\n",
        "                L[i,j] = (A[i,j] - somme_k) / L[j,j]\n",
        "    return L\n",
        "\n",
        "#Résolution des deux systèmes\n",
        "def Resoudre(L,U,b):\n",
        "    L = np.array(L,float)\n",
        "    U = np.array(U,float)\n",
        "    b = np.array(b,float)\n",
        "    n,_ = np.shape(L)\n",
        "    x = np.zeros(n)\n",
        "    y = np.zeros(n)\n",
        "\n",
        "    #Résolution du système triangulaire inférieur (Descente)\n",
        "    for i in range(n):\n",
        "        somme_j = 0\n",
        "        for j in range(i):\n",
        "            somme_j += L[i,j] * y[j]\n",
        "        y[i] = (b[i] - somme_j) / L[i,i]\n",
        "    #Résolution du système triangulaire supérieur (Remontée)\n",
        "    for i in range(n-1,-1,-1):\n",
        "        somme_j = 0\n",
        "        for j in range(i+1,n):\n",
        "            somme_j += U[i,j] * x[j]\n",
        "        x[i] = (y[i] - somme_j) / U[i,i]\n",
        "    return x\n",
        "\n",
        "#Affichage de la solution\n",
        "cond = Definie_Positive(A)\n",
        "if(np.array_equal(A,np.transpose(A)) == True):\n",
        "    print(\"\\nA est symétrique\")\n",
        "else:\n",
        "    print(\"A n'est pas symétrique\")\n",
        "if(cond == True):\n",
        "    print(\"A est définie positive\\n\")\n",
        "    #Saisie du vecteur b\n",
        "    b=np.array([[2],[5],[3],[1],[1]])\n",
        "    print(\"\\nLe vecteur b est :\\n\",b)\n",
        "    L=Cholesky(A)\n",
        "    #Affichage de la matrice triangulaire inférieure\n",
        "    print(\"\\nla matrice L est :\\n\",L)\n",
        "    x = Resoudre(L,np.transpose(L),b)\n",
        "    print(\"\\nLa solution du système est :\\n\",x)\n",
        "else:\n",
        "    print(\"A n'est pas définie positive\\n\")"
      ]
    },
    {
      "cell_type": "code",
      "execution_count": null,
      "metadata": {
        "id": "GfQExvfAVeYi"
      },
      "outputs": [],
      "source": []
    }
  ],
  "metadata": {
    "colab": {
      "provenance": []
    },
    "kernelspec": {
      "display_name": "Python 3 (ipykernel)",
      "language": "python",
      "name": "python3"
    },
    "language_info": {
      "codemirror_mode": {
        "name": "ipython",
        "version": 3
      },
      "file_extension": ".py",
      "mimetype": "text/x-python",
      "name": "python",
      "nbconvert_exporter": "python",
      "pygments_lexer": "ipython3",
      "version": "3.9.12"
    }
  },
  "nbformat": 4,
  "nbformat_minor": 0
}